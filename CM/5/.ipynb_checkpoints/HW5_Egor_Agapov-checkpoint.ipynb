{
 "cells": [
  {
   "cell_type": "markdown",
   "metadata": {},
   "source": [
    "# Exercise 5.1: Lanczos algorithm - ground state and dynamical properties"
   ]
  },
  {
   "cell_type": "code",
   "execution_count": 1,
   "metadata": {},
   "outputs": [],
   "source": [
    "import numpy as np\n",
    "import scipy\n",
    "from lanczos import * \n",
    "from tqdm import tqdm"
   ]
  },
  {
   "cell_type": "markdown",
   "metadata": {},
   "source": [
    "Generate the Hamiltonian for $L=14$ and $g=1.5$ using the functions provided in lanczos.py. Moreover, generate a random state (in the full basis), which we can use as a starting vector for the Lanczos iteration."
   ]
  },
  {
   "cell_type": "code",
   "execution_count": 2,
   "metadata": {},
   "outputs": [],
   "source": [
    "\n",
    "L = 14\n",
    "g = 1.5\n",
    "sx_list = gen_sx_list(L)\n",
    "sz_list = gen_sz_list(L)\n",
    "sy_list = gen_sy_list(L)\n",
    "\n",
    "H = gen_hamiltonian(sx_list, sz_list, g, J=1.)"
   ]
  },
  {
   "cell_type": "code",
   "execution_count": 3,
   "metadata": {},
   "outputs": [
    {
     "data": {
      "text/plain": [
       "1.0"
      ]
     },
     "execution_count": 3,
     "metadata": {},
     "output_type": "execute_result"
    }
   ],
   "source": [
    "psi0 = np.random.rand(2**L)\n",
    "psi0 = psi0/(np.linalg.norm(psi0))\n",
    "np.linalg.norm(psi0)"
   ]
  },
  {
   "cell_type": "markdown",
   "metadata": {},
   "source": [
    "Call the function $\\operatorname{lanczos()}$ with parameters $\\mathrm{N}=200$, stabilize=False. The function returns the tridiagonal matrix $T$ and orthonormal basis of the Krylov space generated during the Lanczos iteration. Determine the 10 smallest eigenvalues of $T$ using np.linalg.eigvalsh. Do you find a ground state degeneracy? Do you expect a degeneracy for these parameters?"
   ]
  },
  {
   "cell_type": "code",
   "execution_count": 4,
   "metadata": {},
   "outputs": [],
   "source": [
    "T, vecs = lanczos(psi0, H, N=200, stabilize=False)"
   ]
  },
  {
   "cell_type": "code",
   "execution_count": 5,
   "metadata": {},
   "outputs": [
    {
     "name": "stdout",
     "output_type": "stream",
     "text": [
      "E_ex [-23.40758298 -23.40758298 -23.40758298 -22.40634977 -22.40634977\n",
      " -22.40634966 -21.92703453 -21.92703453 -21.12647356 -21.12647356]\n"
     ]
    }
   ],
   "source": [
    "eghsys = np.linalg.eigh(T)\n",
    "print(f'E_ex {eghsys[0][:10]}')"
   ]
  },
  {
   "cell_type": "markdown",
   "metadata": {},
   "source": [
    "Yes, we've obtained degeneracy that shouldn't appear "
   ]
  },
  {
   "cell_type": "markdown",
   "metadata": {},
   "source": [
    "Call lanczos() again with stabilize=True. What does this option do? Do you get the expected degeneracy now? Can you explain this? Confirm the results by comparing with the (quasi-exact) energies returned by scipy.sparse.linalg.eigsh."
   ]
  },
  {
   "cell_type": "code",
   "execution_count": 6,
   "metadata": {},
   "outputs": [
    {
     "name": "stdout",
     "output_type": "stream",
     "text": [
      "E_ex [-23.40758298 -22.40634977 -21.92703453 -21.92703453 -21.12647356\n",
      " -21.05728137 -21.05728137 -20.36491833 -20.36491833 -20.19235712]\n"
     ]
    }
   ],
   "source": [
    "T, vecs = lanczos(psi0, H, N=200, stabilize=True)\n",
    "eghsys = np.linalg.eigh(T)\n",
    "print(f'E_ex {eghsys[0][:10]}')"
   ]
  },
  {
   "cell_type": "markdown",
   "metadata": {},
   "source": [
    "psi should be orthogonal to all other states in Krylov space so orthogonalizing it is necessary for correct calculations   "
   ]
  },
  {
   "cell_type": "code",
   "execution_count": 7,
   "metadata": {},
   "outputs": [
    {
     "data": {
      "text/plain": [
       "array([-23.40758298, -22.40634977, -21.92703453, -21.92703453,\n",
       "       -21.12647356, -21.05728137, -21.05728137, -20.36491833,\n",
       "       -20.36491833, -20.36491833])"
      ]
     },
     "execution_count": 7,
     "metadata": {},
     "output_type": "execute_result"
    }
   ],
   "source": [
    "scipy.sparse.linalg.eigsh(H, 10, which='SA')[0]"
   ]
  },
  {
   "cell_type": "markdown",
   "metadata": {},
   "source": [
    "as we can see there actually shouldn't be a degeneracy"
   ]
  },
  {
   "cell_type": "markdown",
   "metadata": {},
   "source": [
    "Find the ground state $\\left|u_0\\right\\rangle$ of $T$ and use it to find the ground state $\\left|\\psi_0\\right\\rangle$ of $H$ in the full basis. Check that the state you obtain is normalized, has the correct energy $E_0=\\left\\langle\\psi_0|H| \\psi_0\\right\\rangle$. Calculate the variance $\\left\\langle\\psi_0\\left|H^2\\right| \\psi_0\\right\\rangle-\\left\\langle\\psi_0|H| \\psi_0\\right\\rangle^2$ to see if $\\left|\\psi_0\\right\\rangle$ is an eigenstate of $H$."
   ]
  },
  {
   "cell_type": "code",
   "execution_count": 8,
   "metadata": {},
   "outputs": [
    {
     "data": {
      "text/plain": [
       "0.9999999999999994"
      ]
     },
     "execution_count": 8,
     "metadata": {},
     "output_type": "execute_result"
    }
   ],
   "source": [
    "GSt = (np.linalg.eigh(T)[1].T)[0]\n",
    "np.linalg.norm(GSt)"
   ]
  },
  {
   "cell_type": "markdown",
   "metadata": {},
   "source": [
    "Hint: Let $V$ denote the matrix containing the vectors returned by lanczos() as columns, then $V^{\\dagger} H V=T$ Hence, if $|u\\rangle$ is an eigenvector of $T,\\left|\\psi_0\\right\\rangle:=V\\left|u_0\\right\\rangle$ is an (approximate) eigenvector of $H$."
   ]
  },
  {
   "cell_type": "code",
   "execution_count": 9,
   "metadata": {},
   "outputs": [
    {
     "data": {
      "text/plain": [
       "0.9999999999999993"
      ]
     },
     "execution_count": 9,
     "metadata": {},
     "output_type": "execute_result"
    }
   ],
   "source": [
    "GSh = (np.array(vecs).T)@GSt\n",
    "np.linalg.norm(GSh)"
   ]
  },
  {
   "cell_type": "code",
   "execution_count": 10,
   "metadata": {},
   "outputs": [
    {
     "data": {
      "text/plain": [
       "-23.407582982021598"
      ]
     },
     "execution_count": 10,
     "metadata": {},
     "output_type": "execute_result"
    }
   ],
   "source": [
    "Egs = np.inner(GSh.conj(), H@GSh)\n",
    "Egs"
   ]
  },
  {
   "cell_type": "code",
   "execution_count": 11,
   "metadata": {},
   "outputs": [
    {
     "data": {
      "text/plain": [
       "1.0231815394945443e-12"
      ]
     },
     "execution_count": 11,
     "metadata": {},
     "output_type": "execute_result"
    }
   ],
   "source": [
    "np.inner(GSh.conj(), H@H@GSh) - np.inner(GSh.conj(), H@GSh)**2.0"
   ]
  },
  {
   "cell_type": "markdown",
   "metadata": {},
   "source": [
    "# d"
   ]
  },
  {
   "cell_type": "markdown",
   "metadata": {},
   "source": [
    "Construct the state $\\left|\\phi_0\\right\\rangle=S_0^{+}\\left|\\psi_0\\right\\rangle$ and get the tridiagonal matrix $T$ of a Lanczos iteration starting from this initial state. Here, $S_j^{+}=\\frac{1}{2}\\left(\\sigma_j^x+\\mathrm{i} \\sigma_j^y\\right)$ labels the spinraising operator on site $j$."
   ]
  },
  {
   "cell_type": "code",
   "execution_count": 12,
   "metadata": {},
   "outputs": [],
   "source": [
    "phi0 = 0.5*(sx_list[0] + 1j*sy_list[0])@GSh"
   ]
  },
  {
   "cell_type": "code",
   "execution_count": 13,
   "metadata": {},
   "outputs": [],
   "source": [
    "T, vecs = lanczos(phi0, H, N=200, stabilize=True)"
   ]
  },
  {
   "cell_type": "markdown",
   "metadata": {},
   "source": [
    "# e"
   ]
  },
  {
   "cell_type": "markdown",
   "metadata": {},
   "source": [
    "Write a function which (given $z$ and $T$ ) evaluates the continued fractions of eq. to calculate $I$."
   ]
  },
  {
   "cell_type": "code",
   "execution_count": 14,
   "metadata": {},
   "outputs": [],
   "source": [
    "def getval(z, T):\n",
    "    alphas = np.diag(T)\n",
    "    betas = np.diag(T, 1)\n",
    "\n",
    "    def eval_frac(i):\n",
    "        if i == T.shape[0]-2:\n",
    "            return 1./(z - alphas[i] - (betas[i]**2.)*(1./(z - alphas[i+1])))\n",
    "        else:\n",
    "            return 1./(z - alphas[i] - (betas[i]**2.)*eval_frac(i+1))\n",
    "        \n",
    "    return 1./(z - alphas[0] - (betas[0]**2.0)*eval_frac(1))\n"
   ]
  },
  {
   "cell_type": "markdown",
   "metadata": {},
   "source": [
    "Plot $I\\left(S_0^{+}, \\omega\\right)$ versus $\\omega$. Choose $z=\\omega+E_0+\\mathrm{i} \\epsilon$ for $\\omega \\in[-1,10]$ and $\\epsilon$ in the order of $0.001 \\lesssim \\epsilon \\lesssim 0.1$. What is the influence of $\\epsilon$ ?"
   ]
  },
  {
   "cell_type": "markdown",
   "metadata": {},
   "source": [
    "\n",
    "Hint: There's a good chance that the function calculating $I$ from $\\mathrm{e})$ works with $z$ being a numpy array with different $\\omega$ values; this will lead to a faster evaluation than calling it for each $\\omega$ separately."
   ]
  },
  {
   "cell_type": "code",
   "execution_count": 15,
   "metadata": {},
   "outputs": [
    {
     "data": {
      "text/plain": [
       "-23.407582982021598"
      ]
     },
     "execution_count": 15,
     "metadata": {},
     "output_type": "execute_result"
    }
   ],
   "source": [
    "Egs"
   ]
  },
  {
   "cell_type": "code",
   "execution_count": 16,
   "metadata": {},
   "outputs": [],
   "source": [
    "eps = 0.005\n",
    "ws = np.linspace(-1, 10, 100) \n",
    "Zs = ws + Egs + 1j*eps"
   ]
  },
  {
   "cell_type": "code",
   "execution_count": 17,
   "metadata": {},
   "outputs": [],
   "source": [
    "Aw = getval(Zs, T)"
   ]
  },
  {
   "cell_type": "code",
   "execution_count": 18,
   "metadata": {},
   "outputs": [
    {
     "data": {
      "image/png": "[encoded data removed]",
      "text/plain": [
       "<Figure size 1000x500 with 1 Axes>"
      ]
     },
     "metadata": {},
     "output_type": "display_data"
    }
   ],
   "source": [
    "\n",
    "\n",
    "fig, axes = plt.subplots(1, 1, figsize=(10, 5))\n",
    "(ax1) = axes\n",
    "# ax1.plot(ws, np.real(Aw), label='real')\n",
    "ax1.plot(ws, -1./np.pi*np.imag(Aw), label='imag')\n",
    "# print(\"   took {t:.1f} seconds\".format(t=time.time()-t0))\n",
    "# ax1.axvline(2.27, color='r', linestyle='--')\n",
    "ax1.set_xlabel(r'$\\omega$')\n",
    "ax1.set_ylabel(r'A($\\omega$)')\n",
    "\n",
    "# ax1.legend(loc='best')\n",
    "plt.show()"
   ]
  },
  {
   "cell_type": "markdown",
   "metadata": {},
   "source": [
    "# g"
   ]
  },
  {
   "cell_type": "markdown",
   "metadata": {},
   "source": [
    "To get more physical insight, we can choose a momentum-dependent operator for $\\hat{O}$. Calculate $I\\left(S_k^{+}, \\omega\\right)$ for the $k$ values compatible with the chosen $L=14$, where $S_k^{+}$ is defined as\n",
    "$$\n",
    "S_k^{+}=\\frac{1}{\\sqrt{L}} \\sum_{j=0}^{L-1} e^{\\mathrm{i} j k} S_j^{+} .\n",
    "$$\n",
    "\n",
    "Create a 2D colorplot of $I\\left(S_k^{+}, \\omega\\right)$ with $k$ on the $x$-axis and $\\omega$ on the $y$-axis."
   ]
  },
  {
   "cell_type": "code",
   "execution_count": 28,
   "metadata": {},
   "outputs": [],
   "source": [
    "ks = np.linspace(-np.pi, np.pi, 50 )\n",
    "Sks = [np.sum([0.5*(sx_list[i] + 1j*sy_list[i])*np.exp(1j*i*k) for i in range(L)]) for k in ks]"
   ]
  },
  {
   "cell_type": "code",
   "execution_count": 29,
   "metadata": {},
   "outputs": [],
   "source": [
    "eps = 0.005\n",
    "ws = np.linspace(-1, 10, 100) \n",
    "Zs = ws + Egs + 1j*eps"
   ]
  },
  {
   "cell_type": "code",
   "execution_count": 30,
   "metadata": {},
   "outputs": [
    {
     "name": "stderr",
     "output_type": "stream",
     "text": [
      "100%|██████████| 50/50 [02:40<00:00,  3.22s/it]\n"
     ]
    }
   ],
   "source": [
    "Awk = []\n",
    "for Sk in tqdm(Sks):\n",
    "    phi0 = Sk@GSh\n",
    "    T, _ = lanczos(phi0, H, N=200, stabilize=True)\n",
    "    Aw = getval(Zs, T)\n",
    "    Awk.append(Aw)"
   ]
  },
  {
   "cell_type": "code",
   "execution_count": 31,
   "metadata": {},
   "outputs": [
    {
     "data": {
      "text/plain": [
       "(50, 100)"
      ]
     },
     "execution_count": 31,
     "metadata": {},
     "output_type": "execute_result"
    }
   ],
   "source": [
    "Awk = np.array(Awk)\n",
    "Awk.shape"
   ]
  },
  {
   "cell_type": "code",
   "execution_count": 34,
   "metadata": {},
   "outputs": [],
   "source": [
    "import matplotlib as mpl"
   ]
  },
  {
   "cell_type": "code",
   "execution_count": 36,
   "metadata": {},
   "outputs": [
    {
     "data": {
      "image/png": "[encoded data removed]",
      "text/plain": [
       "<Figure size 640x480 with 1 Axes>"
      ]
     },
     "metadata": {},
     "output_type": "display_data"
    }
   ],
   "source": [
    "colorplot(ks, ws, -1./np.pi*np.imag(Awk), norm=mpl.colors.Normalize(vmin=0.5, vmax=5) )"
   ]
  },
  {
   "cell_type": "markdown",
   "metadata": {},
   "source": [
    "# h"
   ]
  },
  {
   "cell_type": "markdown",
   "metadata": {},
   "source": [
    "Regenerate similar colorplots for other values of $g$ in both phases and at the critical point, both for ferromagnetic $J=1$ and antiferromagnetic $J=-1$."
   ]
  },
  {
   "cell_type": "code",
   "execution_count": 48,
   "metadata": {},
   "outputs": [],
   "source": [
    "from scipy.sparse import csr_matrix, kron"
   ]
  },
  {
   "cell_type": "code",
   "execution_count": 75,
   "metadata": {},
   "outputs": [],
   "source": [
    "L = 14\n",
    "g = 1.5\n",
    "sx_list = gen_sx_list(L)\n",
    "sz_list = gen_sz_list(L)\n",
    "sy_list = gen_sy_list(L)\n",
    "\n",
    "ks = np.linspace(-np.pi, np.pi, 20 )\n",
    "Sks = [csr_matrix(np.sum([0.5*(sx_list[i] + 1j*sy_list[i])*np.exp(1j*i*k) for i in range(L)])) for k in ks]\n",
    "eps = 0.01\n",
    "ws = np.linspace(-1, 10, 30) \n",
    "Zs = ws + Egs + 1j*eps"
   ]
  },
  {
   "cell_type": "code",
   "execution_count": 76,
   "metadata": {},
   "outputs": [],
   "source": [
    "def getAwk(g, J):\n",
    "    H = gen_hamiltonian(sx_list, sz_list, g, J)\n",
    "    eghsys = scipy.sparse.linalg.eigsh(H, 1, which='SA')\n",
    "    Egs = eghsys[0][0]\n",
    "    GSh = eghsys[1][:, 0]\n",
    "    Awk = []\n",
    "    for Sk in tqdm(Sks):\n",
    "        phi0 = Sk@GSh\n",
    "        T, _ = lanczos(phi0, H, N=200, stabilize=True)\n",
    "        Aw = getval(Zs, T)\n",
    "        Awk.append(Aw)\n",
    "    return np.array(Awk)\n",
    "        "
   ]
  },
  {
   "cell_type": "code",
   "execution_count": 77,
   "metadata": {},
   "outputs": [
    {
     "name": "stderr",
     "output_type": "stream",
     "text": [
      "100%|██████████| 20/20 [01:18<00:00,  3.90s/it]\n",
      "100%|██████████| 20/20 [01:13<00:00,  3.66s/it]\n",
      "100%|██████████| 20/20 [01:04<00:00,  3.24s/it]\n"
     ]
    }
   ],
   "source": [
    "gs = [0.5, 1.0, 1.5]\n",
    "Awks = []\n",
    "for g in gs:\n",
    "    Awk = getAwk(g, J=1.0)\n",
    "    Awks.append(Awk)"
   ]
  },
  {
   "cell_type": "code",
   "execution_count": 70,
   "metadata": {},
   "outputs": [],
   "source": [
    "def colorplotAE(ax, xs, ys, data, **kwargs):\n",
    "    \"\"\"Create a colorplot with matplotlib.pyplot.imshow.\n",
    "\n",
    "    Parameters\n",
    "    ----------\n",
    "    xs : 1D array, shape (n,)\n",
    "        x-values of the points for which we have data; evenly spaced\n",
    "    ys : 1D array, shape (m,)\n",
    "        y-values of the points for which we have data; evenly spaced\n",
    "    data : 2D array, shape (m, n)\n",
    "        ``data[i, j]`` corresponds to the points ``(xs[i], ys[j])``\n",
    "    **kwargs :\n",
    "        additional keyword arguments, given to `imshow`.\n",
    "    \"\"\"\n",
    "    data = np.asarray(data)\n",
    "    if data.shape != (len(xs), len(ys)):\n",
    "        raise ValueError(\"Shape of data doesn't match len of xs and ys!\")\n",
    "    dx = (xs[-1] - xs[0])/(len(xs)-1)\n",
    "    assert abs(dx - (xs[1]-xs[0])) < 1.e-10\n",
    "    dy = (ys[-1] - ys[0])/(len(ys)-1)\n",
    "    assert abs(dy - (ys[1]-ys[0])) < 1.e-10\n",
    "    extent = (xs[0] - 0.5 * dx, xs[-1] + 0.5 * dx,  # left, right\n",
    "              ys[0] - 0.5 * dy, ys[-1] + 0.5 * dy)  # bottom, top\n",
    "    kwargs.setdefault('aspect', 'auto')\n",
    "    kwargs.setdefault('interpolation', 'nearest')\n",
    "    kwargs.setdefault('extent', extent)\n",
    "    # convention of imshow: matrix like data[row, col] with (0, 0) top left.\n",
    "    # but we want data[col, row] with (0, 0) bottom left -> transpose and invert y axis\n",
    "    ax.imshow(data.T[::-1, :], **kwargs)\n"
   ]
  },
  {
   "cell_type": "code",
   "execution_count": 83,
   "metadata": {},
   "outputs": [
    {
     "data": {
      "image/png": "[encoded data removed]",
      "text/plain": [
       "<Figure size 1000x400 with 3 Axes>"
      ]
     },
     "metadata": {},
     "output_type": "display_data"
    }
   ],
   "source": [
    "\n",
    "\n",
    "fig, axes = plt.subplots(1, 3, figsize=(10, 4))\n",
    "(ax1, ax2, ax3) = axes\n",
    "# ax1.plot(ws, np.real(Aw), label='real')\n",
    "# ax1.plot(ws, -1./np.pi*np.imag(Aw), label='imag')\n",
    "# print(\"   took {t:.1f} seconds\".format(t=time.time()-t0))\n",
    "# ax1.axvline(2.27, color='r', linestyle='--')\n",
    "colorplotAE(ax1, ks, ws, -1./np.pi*np.imag(Awks[0]), \n",
    "          norm=mpl.colors.Normalize(vmin=0.0, vmax=0.01)  )\n",
    "ax1.set_xlabel(r'$\\omega$')\n",
    "ax1.set_ylabel(r'A($\\omega$)')\n",
    "ax1.set_title(r'g = 0.5, J = 1')\n",
    "\n",
    "colorplotAE(ax2, ks, ws, -1./np.pi*np.imag(Awks[1]), \n",
    "          norm=mpl.colors.Normalize(vmin=0.0, vmax=0.1) )\n",
    "ax2.set_xlabel(r'$\\omega$')\n",
    "ax2.set_ylabel(r'A($\\omega$)')\n",
    "ax2.set_title(r'g = 1.0, J = 1')\n",
    "\n",
    "colorplotAE(ax3, ks, ws, -1./np.pi*np.imag(Awks[2]), \n",
    "          norm=mpl.colors.Normalize(vmin=0.0, vmax=0.5) )\n",
    "\n",
    "ax3.set_xlabel(r'$\\omega$')\n",
    "ax3.set_ylabel(r'A($\\omega$)')\n",
    "ax3.set_title(r'g = 1.5, J = 1')\n",
    "\n",
    "# ax1.legend(loc='best')\n",
    "plt.show()"
   ]
  },
  {
   "cell_type": "code",
   "execution_count": 84,
   "metadata": {},
   "outputs": [
    {
     "name": "stderr",
     "output_type": "stream",
     "text": [
      "100%|██████████| 20/20 [01:27<00:00,  4.36s/it]\n",
      "100%|██████████| 20/20 [01:18<00:00,  3.90s/it]\n",
      "100%|██████████| 20/20 [01:33<00:00,  4.65s/it]\n"
     ]
    }
   ],
   "source": [
    "gs = [0.5, 1.0, 1.5]\n",
    "AwksAFM = []\n",
    "for g in gs:\n",
    "    Awk = getAwk(g, J=-1.0)\n",
    "    AwksAFM.append(Awk)"
   ]
  },
  {
   "cell_type": "code",
   "execution_count": 85,
   "metadata": {},
   "outputs": [
    {
     "data": {
      "image/png": "[encoded data removed]",
      "text/plain": [
       "<Figure size 1000x400 with 3 Axes>"
      ]
     },
     "metadata": {},
     "output_type": "display_data"
    }
   ],
   "source": [
    "\n",
    "\n",
    "fig, axes = plt.subplots(1, 3, figsize=(10, 4))\n",
    "(ax1, ax2, ax3) = axes\n",
    "# ax1.plot(ws, np.real(Aw), label='real')\n",
    "# ax1.plot(ws, -1./np.pi*np.imag(Aw), label='imag')\n",
    "# print(\"   took {t:.1f} seconds\".format(t=time.time()-t0))\n",
    "# ax1.axvline(2.27, color='r', linestyle='--')\n",
    "colorplotAE(ax1, ks, ws, -1./np.pi*np.imag(AwksAFM[0]), \n",
    "          norm=mpl.colors.Normalize(vmin=0.0, vmax=0.01)  )\n",
    "ax1.set_xlabel(r'$\\omega$')\n",
    "ax1.set_ylabel(r'A($\\omega$)')\n",
    "ax1.set_title(r'g = 0.5, J = -1')\n",
    "\n",
    "colorplotAE(ax2, ks, ws, -1./np.pi*np.imag(AwksAFM[1]), \n",
    "          norm=mpl.colors.Normalize(vmin=0.0, vmax=0.1) )\n",
    "ax2.set_xlabel(r'$\\omega$')\n",
    "ax2.set_ylabel(r'A($\\omega$)')\n",
    "ax2.set_title(r'g = 1.0, J = -1')\n",
    "\n",
    "colorplotAE(ax3, ks, ws, -1./np.pi*np.imag(AwksAFM[2]), \n",
    "          norm=mpl.colors.Normalize(vmin=0.0, vmax=0.5) )\n",
    "\n",
    "ax3.set_xlabel(r'$\\omega$')\n",
    "ax3.set_ylabel(r'A($\\omega$)')\n",
    "ax3.set_title(r'g = 1.5, J = -1')\n",
    "\n",
    "# ax1.legend(loc='best')\n",
    "plt.show()"
   ]
  },
  {
   "cell_type": "code",
   "execution_count": null,
   "metadata": {},
   "outputs": [],
   "source": []
  }
 ],
 "metadata": {
  "kernelspec": {
   "display_name": "phchem",
   "language": "python",
   "name": "python3"
  },
  "language_info": {
   "codemirror_mode": {
    "name": "ipython",
    "version": 3
   },
   "file_extension": ".py",
   "mimetype": "text/x-python",
   "name": "python",
   "nbconvert_exporter": "python",
   "pygments_lexer": "ipython3",
   "version": "3.12.2"
  }
 },
 "nbformat": 4,
 "nbformat_minor": 2
}
