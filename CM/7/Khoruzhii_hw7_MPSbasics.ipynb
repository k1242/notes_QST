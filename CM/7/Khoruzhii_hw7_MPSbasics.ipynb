{
 "cells": [
  {
   "cell_type": "code",
   "execution_count": 1,
   "id": "7fab1379-ff00-435a-ad0e-9332dbf799f4",
   "metadata": {},
   "outputs": [],
   "source": [
    "# Khoruzhii Kirill, 07.06.2024\n",
    "# Comments enhanced with the assistance of ChatGPT by OpenAI"
   ]
  },
  {
   "cell_type": "code",
   "execution_count": 3,
   "id": "5b01ce4a-7f72-43d5-ab0c-bf4ef6ac82da",
   "metadata": {},
   "outputs": [],
   "source": [
    "import numpy as np\n",
    "\n",
    "import scipy\n",
    "from scipy import sparse\n",
    "import scipy.sparse.linalg\n",
    "\n",
    "import matplotlib.pyplot as plt\n",
    "plt.rcParams[\"font.family\"] = \"serif\""
   ]
  },
  {
   "cell_type": "markdown",
   "id": "b7d1e381-7506-4943-a935-a4193eabfea0",
   "metadata": {
    "jp-MarkdownHeadingCollapsed": true
   },
   "source": [
    "## Ed"
   ]
  },
  {
   "cell_type": "code",
   "execution_count": 4,
   "id": "fa51687b-81bb-454c-8c5a-06b0112aca62",
   "metadata": {},
   "outputs": [],
   "source": [
    "\"\"\"\n",
    "\n",
    "Module to generate the Hamiltonian of the transverse field Ising model.\n",
    "\n",
    "H = -J sum_i sigma^x_i sigma^x_{i+1} - g sum_i sigma^z i.\n",
    "\n",
    "Used in the solution of exercise 6.2\n",
    "\n",
    "\"\"\"\n",
    "\n",
    "Id = sparse.csr_matrix(np.eye(2))\n",
    "Sx = sparse.csr_matrix([[0., 1.], [1., 0.]])\n",
    "Sz = sparse.csr_matrix([[1., 0.], [0., -1.]])\n",
    "Splus = sparse.csr_matrix([[0., 1.], [0., 0.]])\n",
    "Sminus = sparse.csr_matrix([[0., 0.], [1., 0.]])\n",
    "\n",
    "\n",
    "def singlesite_to_full(op, i, L):\n",
    "    op_list = [Id]*L  # = [Id, Id, Id ...] with L entries\n",
    "    op_list[i] = op\n",
    "    full = op_list[0]\n",
    "    for op_i in op_list[1:]:\n",
    "        full = sparse.kron(full, op_i, format=\"csr\")\n",
    "    return full\n",
    "\n",
    "\n",
    "def gen_sx_list(L):\n",
    "    return [singlesite_to_full(Sx, i, L) for i in range(L)]\n",
    "\n",
    "\n",
    "def gen_sz_list(L):\n",
    "    return [singlesite_to_full(Sz, i, L) for i in range(L)]\n",
    "\n",
    "\n",
    "def gen_hamiltonian_periodic(sx_list, sz_list, g, J=1.):\n",
    "    \"\"\" assumes periodic boundery conditions \"\"\"\n",
    "    L = len(sx_list)\n",
    "    H = sparse.csr_matrix((2**L, 2**L))\n",
    "    for j in range(L):\n",
    "        H = H - J *( sx_list[j] * sx_list[(j+1)%L])\n",
    "        H = H - g * sz_list[j]\n",
    "    return H\n",
    "\n",
    "\n",
    "def gen_hamiltonian(sx_list, sz_list, g, J=1.):\n",
    "    \"\"\" assumes open boundery conditions \"\"\"\n",
    "    L = len(sx_list)\n",
    "    H = sparse.csr_matrix((2**L, 2**L))\n",
    "    for j in range(L-1):\n",
    "        H = H - J *( sx_list[j] * sx_list[(j+1)%L])\n",
    "        H = H - g * sz_list[j]\n",
    "    H = H - g * sz_list[-1]\n",
    "    return H\n"
   ]
  },
  {
   "cell_type": "markdown",
   "id": "94de194b-1cea-4be3-bf90-4394bae71360",
   "metadata": {},
   "source": [
    "## Exercise 7.1: Matrix product state (MPS) basics"
   ]
  },
  {
   "cell_type": "code",
   "execution_count": 5,
   "id": "b727ec52-a9c1-4ad6-a645-f5f8353ab5dd",
   "metadata": {},
   "outputs": [
    {
     "name": "stdout",
     "output_type": "stream",
     "text": [
      "⟨ψ|ψ⟩ = 1.000000\n"
     ]
    }
   ],
   "source": [
    "# a)\n",
    "L = 14\n",
    "g = 1.5 \n",
    "\n",
    "H = gen_hamiltonian(gen_sx_list(L), gen_sz_list(L), g)\n",
    "E, gs = sparse.linalg.eigsh(H, k=1, which='SA')\n",
    "\n",
    "print(f\"⟨ψ|ψ⟩ = {np.dot(gs[:,0], gs[:,0]):6f}\")"
   ]
  },
  {
   "cell_type": "code",
   "execution_count": 6,
   "id": "b4d8cee3-e00c-4f9d-8f2d-e96cb7569a66",
   "metadata": {},
   "outputs": [],
   "source": [
    "# b)\n",
    "\n",
    "def compress(psi, L, chimax):\n",
    "    \"\"\"\n",
    "    Compress a wave function 'psi' using singular value decomposition (SVD) to reduce its bond dimensions.\n",
    "    \n",
    "    :param psi: Initial state vector of the quantum system, assumed to be a long vector.\n",
    "    :param L: The number of lattice sites (or spins) in the system.\n",
    "    :param chimax: Maximum bond dimension allowed after truncation to manage computational resources.\n",
    "    \n",
    "    :return: A list of MPS tensors with reduced bond dimensions.\n",
    "    \"\"\"\n",
    "    # Initialize the list to store MPS tensors\n",
    "    MPS = []\n",
    "    \n",
    "    # Initial dummy index α_1 (bond dimension starts at 1)\n",
    "    chi_prev = 1\n",
    "    # Reshape 'psi' to begin the iterative bipartitioning and SVD\n",
    "    psi = psi.reshape((chi_prev, 2**L))\n",
    "    \n",
    "    for n in range(1, L + 1):\n",
    "        # Reshape psi to prepare for SVD, splitting the system into two parts\n",
    "        dim_Rn = 2**(L - (n - 1))\n",
    "        psi = psi.reshape((chi_prev * 2, dim_Rn // 2))\n",
    "        \n",
    "        # Perform SVD on the reshaped psi\n",
    "        M_n, lambda_n, psitilde = np.linalg.svd(psi, full_matrices=False)\n",
    "        \n",
    "        # Truncate the decomposed matrices to keep only 'chimax' largest singular values\n",
    "        # to control the size and accuracy of the MPS\n",
    "        if len(lambda_n) > chimax:\n",
    "            keep = np.argsort(lambda_n)[::-1][:chimax]\n",
    "            M_n = M_n[:, keep]\n",
    "            lambda_n = lambda_n[keep]\n",
    "            psitilde = psitilde[keep, :]\n",
    "        \n",
    "        # Update the bond dimension for the next tensor based on truncation\n",
    "        chi_next = len(lambda_n)\n",
    "        \n",
    "        # Reshape the matrix U from SVD to the tensor format for the MPS component\n",
    "        M_n = M_n.reshape((chi_prev, 2, chi_next))\n",
    "        # Append the tensor to the MPS list\n",
    "        MPS.append(M_n)\n",
    "        \n",
    "        # Update psi for the next iteration using the remaining matrices from SVD\n",
    "        psi = lambda_n[:, np.newaxis] * psitilde\n",
    "        \n",
    "        # Update the previous bond dimension for the next iteration\n",
    "        chi_prev = chi_next\n",
    "    \n",
    "    return MPS"
   ]
  },
  {
   "cell_type": "code",
   "execution_count": 7,
   "id": "87359d43-205c-486e-a176-2cb0103fd40b",
   "metadata": {},
   "outputs": [
    {
     "name": "stdout",
     "output_type": "stream",
     "text": [
      "max dim: 128\n",
      "# elemnts: 43688\n",
      "[1, 2, 4, 8, 16, 32, 64, 128, 64, 32, 16, 8, 4, 2]\n"
     ]
    }
   ],
   "source": [
    "# c)\n",
    "\n",
    "gs_mps_ex = compress(gs, L, int(1e6))\n",
    "dims = [m.shape[0] for m in gs_mps_ex]\n",
    "\n",
    "print(f\"max dim: {max(dims)}\")\n",
    "print(f\"# elemnts: {np.sum([m.size for m in gs_mps_ex])}\")\n",
    "print(dims)"
   ]
  },
  {
   "cell_type": "code",
   "execution_count": 8,
   "id": "9530b157-7fda-4106-8519-e78fe448c7ca",
   "metadata": {},
   "outputs": [
    {
     "name": "stdout",
     "output_type": "stream",
     "text": [
      "max dim: 10\n",
      "# elemnts: 1688\n",
      "[1, 2, 4, 8, 10, 10, 10, 10, 10, 10, 10, 8, 4, 2]\n"
     ]
    }
   ],
   "source": [
    "# d)\n",
    "\n",
    "gs_mps_compr = compress(gs, L, 10)\n",
    "dims = [m.shape[0] for m in gs_mps_compr]\n",
    "\n",
    "print(f\"max dim: {max(dims)}\")\n",
    "print(f\"# elemnts: {np.sum([m.size for m in gs_mps_compr])}\")\n",
    "print(dims)"
   ]
  },
  {
   "cell_type": "code",
   "execution_count": 9,
   "id": "db745d2b-d83c-4b54-91b9-f087ffc16fbd",
   "metadata": {},
   "outputs": [],
   "source": [
    "# e)\n",
    "\n",
    "def mps_inner_product(stateA, stateB):\n",
    "    \"\"\"\n",
    "    Compute the inner product of two matrix product states (MPS) representing quantum states.\n",
    "    \n",
    "    :param stateA: List of MPS tensors for the first quantum state. Each tensor in this list \n",
    "                   should have dimensions (bond_dimA[i], phys_dim[i], bond_dimA[i+1]), where \n",
    "                   'bond_dimA' are the bond dimensions and 'phys_dim' are the physical dimensions of the state.\n",
    "    :param stateB: List of MPS tensors for the second quantum state, with dimensions\n",
    "                   (bond_dimB[i], phys_dim[i], bond_dimB[i+1]), structured similarly to stateA.\n",
    "                  \n",
    "    The function uses the complex conjugate of stateA's tensors during the computation. It iteratively\n",
    "    contracts tensors from the last to the first, ensuring all matching dimensions align properly.\n",
    "    \n",
    "    :return: The computed scalar representing the inner product of the two MPS states.\n",
    "    \"\"\"\n",
    "    # Reshape and transpose the last tensor of stateA and stateB for initial contraction\n",
    "    last_tensorA = np.reshape(np.transpose(stateA[-1], (0, 1, 2)), (stateA[-1].shape[0], stateA[-1].shape[1]))\n",
    "    last_tensorB = np.reshape(np.transpose(stateB[-1], (0, 1, 2)), (stateB[-1].shape[0], stateB[-1].shape[1]))\n",
    "    \n",
    "    # Perform initial tensor contraction between the last tensors of stateA and stateB\n",
    "    result = np.tensordot(last_tensorB, np.conj(last_tensorA), axes=([1], [1]))\n",
    "    \n",
    "    # Iteratively contract the remaining tensors in the list from last to first\n",
    "    for i in reversed(range(len(stateA)-1)):\n",
    "        result = np.tensordot(np.conj(stateA[i]), result, axes=([2], [1]))\n",
    "        result = np.tensordot(stateB[i], result, axes=([1, 2], [1, 2]))\n",
    "    \n",
    "    return result.flatten()[0]"
   ]
  },
  {
   "cell_type": "code",
   "execution_count": 10,
   "id": "3119bd8f-6f3d-469f-9464-aac92776677a",
   "metadata": {},
   "outputs": [
    {
     "name": "stdout",
     "output_type": "stream",
     "text": [
      "⟨ψ₁|↑...↑⟩ = 0.814694\n"
     ]
    }
   ],
   "source": [
    "# f)\n",
    "\n",
    "state_up = [np.array([1, 0]).reshape((1, 2, 1)) for _ in range(L)]\n",
    "print(f\"⟨ψ₁|↑...↑⟩ = {mps_inner_product(state_up, gs_mps_ex):.6f}\")"
   ]
  },
  {
   "cell_type": "markdown",
   "id": "fba10c85-5c1c-4785-8dd7-59fbad9ee1fa",
   "metadata": {},
   "source": [
    "## Exercise 7.2: The AKLT model"
   ]
  },
  {
   "cell_type": "code",
   "execution_count": 11,
   "id": "95cbab82-e0a2-49a2-a363-7c86dc01f3af",
   "metadata": {},
   "outputs": [
    {
     "name": "stdout",
     "output_type": "stream",
     "text": [
      "⟨AKLT|AKLT⟩ = 1.000000\n"
     ]
    }
   ],
   "source": [
    "# a)\n",
    "L = 16\n",
    "M_odd = np.array([[2**(-0.5), 0], [0, -2**(-0.5)]]).reshape((1, 2, 2))\n",
    "M_even  = np.array([[ 0, 1],  [ 1, 0]]).T.reshape((2, 2, 1))\n",
    "\n",
    "AKLT = []\n",
    "# Append M_odd and M_even alternatively, based on half the length of some lattice size L\n",
    "for i in range(L // 2):\n",
    "    AKLT.extend([M_odd, M_even])\n",
    "\n",
    "print(f\"⟨AKLT|AKLT⟩ = {mps_inner_product(AKLT, AKLT):.6f}\")"
   ]
  },
  {
   "cell_type": "code",
   "execution_count": 12,
   "id": "920f0a37-0431-4084-97bd-060cdacf19a6",
   "metadata": {},
   "outputs": [
    {
     "data": {
      "image/png": "[encoded data removed]",
      "text/plain": [
       "<Figure size 400x300 with 2 Axes>"
      ]
     },
     "metadata": {},
     "output_type": "display_data"
    }
   ],
   "source": [
    "# b)\n",
    "\n",
    "def apply_operator_to_mps(mps, op, site):\n",
    "    modified_mps = mps.copy()\n",
    "    modified_tensor = np.tensordot(modified_mps[site], op.toarray(), axes=([1], [0]))\n",
    "    modified_tensor = np.transpose(modified_tensor, (0, 2, 1))\n",
    "    modified_mps[site] = modified_tensor\n",
    "    return modified_mps\n",
    "\n",
    "def get_ij_corr(mps, i, j, op):\n",
    "    mps_i = apply_operator_to_mps(mps, op, i)\n",
    "    mps_ij = apply_operator_to_mps(mps_i, op, j)\n",
    "    correlation = mps_inner_product(mps_ij, mps)\n",
    "    return correlation\n",
    "\n",
    "res = np.zeros((L,L));\n",
    "for i in range(L):\n",
    "    for j in range(L):\n",
    "        res[i,j] = get_ij_corr(AKLT, i, j, Sz)\n",
    "fig, ax = plt.subplots(figsize=(4,3))\n",
    "c = ax.matshow(res)\n",
    "fig.colorbar(c)\n",
    "plt.title(\"⟨σᶻ(i) σᶻ(j)⟩\")\n",
    "plt.show()"
   ]
  }
 ],
 "metadata": {
  "kernelspec": {
   "display_name": "Python 3 (ipykernel)",
   "language": "python",
   "name": "python3"
  },
  "language_info": {
   "codemirror_mode": {
    "name": "ipython",
    "version": 3
   },
   "file_extension": ".py",
   "mimetype": "text/x-python",
   "name": "python",
   "nbconvert_exporter": "python",
   "pygments_lexer": "ipython3",
   "version": "3.12.0"
  }
 },
 "nbformat": 4,
 "nbformat_minor": 5
}
