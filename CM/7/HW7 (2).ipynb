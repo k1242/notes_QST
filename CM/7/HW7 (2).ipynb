{
 "cells": [
  {
   "cell_type": "code",
   "execution_count": 2,
   "metadata": {},
   "outputs": [],
   "source": [
    "import numpy as np\n",
    "import scipy\n",
    "from scipy import sparse\n",
    "import scipy.sparse.linalg\n",
    "import matplotlib.pyplot as plt\n"
   ]
  },
  {
   "cell_type": "code",
   "execution_count": 3,
   "metadata": {},
   "outputs": [],
   "source": [
    "%load_ext autoreload\n",
    "%autoreload 2\n",
    "\n",
    "import ed"
   ]
  },
  {
   "cell_type": "markdown",
   "metadata": {},
   "source": [
    "# Exercise 7.1: Matrix product state (MPS) basics"
   ]
  },
  {
   "cell_type": "markdown",
   "metadata": {},
   "source": [
    "a) As in Exercise 6.2, generate the ground state of the transverse field Ising model with open boundary conditions for $L=14, g=1.5, J \\equiv 1$. Make sure it is normalized to $\\langle\\psi \\mid \\psi\\rangle=1$."
   ]
  },
  {
   "cell_type": "code",
   "execution_count": 13,
   "metadata": {},
   "outputs": [
    {
     "name": "stdout",
     "output_type": "stream",
     "text": [
      "E = -23.22\n"
     ]
    }
   ],
   "source": [
    "L = 14\n",
    "g = 1.5 \n",
    "sx_list = ed.gen_sx_list(L)\n",
    "sz_list = ed.gen_sz_list(L)\n",
    "H = ed.gen_hamiltonian(sx_list, sz_list, g)\n",
    "E, GS = sparse.linalg.eigsh(H, k=1, which='SA')\n",
    "# print(E)\n",
    "print(f'E = {E[0]:.2f}')"
   ]
  },
  {
   "cell_type": "code",
   "execution_count": 14,
   "metadata": {},
   "outputs": [
    {
     "data": {
      "text/plain": [
       "0.9999999999999973"
      ]
     },
     "execution_count": 14,
     "metadata": {},
     "output_type": "execute_result"
    }
   ],
   "source": [
    "np.dot(GS.flatten(), GS.flatten())"
   ]
  },
  {
   "cell_type": "markdown",
   "metadata": {},
   "source": [
    "b) Write a function compress(psi, L, chimax), which takes the state, the length of the chain and the maximal desired bond dimension chimax as input and compresses the state into MPS form using successive SVDs. It should return a list of $L$ numpy arrays, namely the $M^{[n]}$, each with 3 indices $\\left(\\alpha_n, j_n, \\alpha_{n+1}\\right)$.\n",
    "Hint: Let us define the indices $R_n=\\left(j_n, j_{n+1}, \\ldots, j_L\\right)$, such that $R_1 \\equiv i$.\n",
    "First, introduce the dummy index $\\alpha_1$ with a reshape of psi into shape $\\left(1,2^L\\right)$ for the indices $\\alpha_1, R_1$ Then you can perform a loop over $n$ which generates one $M^{[n]}$ in each iteration by splitting $\\psi_{\\alpha_n, R_n}=M_{\\alpha_n, \\alpha_{n+1}}^{[n] j_n} \\psi_{\\alpha_{n+1}, R_{n+1}}$. The necessary steps for this iteration are:\n",
    "- Reshape $\\psi_{\\alpha_n, R_n}$ into shape $\\left(\\chi_n \\cdot 2, \\operatorname{dim}\\left(R_{n+1}\\right)\\right)$. Note that $\\operatorname{dim}\\left(R_n\\right)=2^{L-(n-1)}$. This corresponds to a regrouping of the indices into $L_n \\equiv\\left(\\alpha_n, j_n\\right)$ and $R_{n+1}=$ $\\left(j_{n+1}, j_{n+2}, \\ldots, j_L\\right)$.\n",
    "- Perform an SVD to split $\\psi_{L_n, R_n}=\\sum_{\\alpha_{n+1}} M_{L_n, \\alpha_{n+1}} \\lambda_{\\alpha_{n+1}} \\tilde{\\psi}_{\\alpha_{n+1}, R_{n+1}}$.\n",
    "- If necessary, truncate to smaller dimension $\\chi_{n+1} \\leq \\chi_{\\max }$. With numpy arrays, this can be done as follows:\n",
    "```\n",
    "keep = np.argsort(lambda_n)[::-1][:chimax]\n",
    "M_n = M_n[:, keep]\n",
    "lambda_ = lambda_n[keep]\n",
    "psitilde = psitilde[keep, :]\n",
    "```\n",
    "- Reshape $M^{[n]}$ into shape $\\left(\\chi_n, 2, \\chi_{n+1}\\right)$ to obtain the indices $\\left(L_n, \\alpha_{n+1}\\right) \\rightarrow\\left(\\alpha_n, j_n, \\alpha_{n+1}\\right)$.\n",
    "- Re-absorb the $\\Lambda_n$ into $\\psi_{\\alpha_{n+1}, R_{n+1}}=\\lambda_{\\alpha_{n+1}} \\tilde{\\psi}_{\\alpha_{n+1}, R_{n+1}}$ using psi = lambda[:, np.newaxis] * psitilde[:, :]\n",
    "\n",
    "The final $\\psi_{\\alpha_{L+1}, R_{L+1}}$ is just a $1 \\times 1$ matrix containing at most a phase (and overall norm of $\\psi$, you can simply discard it."
   ]
  },
  {
   "cell_type": "code",
   "execution_count": 15,
   "metadata": {},
   "outputs": [],
   "source": [
    "\n",
    "def compress(psi, L, chimax):\n",
    "    # Initialize the list to store MPS tensors\n",
    "    MPS = []\n",
    "    \n",
    "    # Initial dummy index α_1\n",
    "    chi_prev = 1\n",
    "    psi = psi.reshape((chi_prev, 2**L))\n",
    "    \n",
    "    for n in range(1, L + 1):\n",
    "        # Reshape psi into shape (χ_n * 2, dim(R_{n+1}))\n",
    "        dim_Rn = 2**(L - (n - 1))\n",
    "        psi = psi.reshape((chi_prev * 2, dim_Rn // 2))\n",
    "        \n",
    "        # Perform SVD\n",
    "        M_n, lambda_n, psitilde = np.linalg.svd(psi, full_matrices=False)\n",
    "        \n",
    "        # Truncate if necessary\n",
    "        if len(lambda_n) > chimax:\n",
    "            keep = np.argsort(lambda_n)[::-1][:chimax]\n",
    "            M_n = M_n[:, keep]\n",
    "            lambda_n = lambda_n[keep]\n",
    "            psitilde = psitilde[keep, :]\n",
    "        \n",
    "        chi_next = len(lambda_n)  # New bond dimension after truncation\n",
    "        \n",
    "        # Reshape U to get M^{[n]}\n",
    "        M_n = M_n.reshape((chi_prev, 2, chi_next))\n",
    "        MPS.append(M_n)\n",
    "        \n",
    "        # Update psi for the next iteration\n",
    "        psi = lambda_n[:, np.newaxis] * psitilde[:, :]\n",
    "        \n",
    "        # Update bond dimension for next iteration\n",
    "        chi_prev = chi_next\n",
    "    \n",
    "    return MPS"
   ]
  },
  {
   "cell_type": "markdown",
   "metadata": {},
   "source": [
    "c) What is the maximally necessary bond dimension for $L=14$ ? Call compress() for the ground state with $\\chi_{\\max }$ larger than that to get an exact MPS representation $\\left|\\psi_{e x}^{M P S}\\right\\rangle$."
   ]
  },
  {
   "cell_type": "code",
   "execution_count": 16,
   "metadata": {},
   "outputs": [
    {
     "name": "stdout",
     "output_type": "stream",
     "text": [
      "[2, 4, 8, 16, 32, 64, 128, 128, 64, 32, 16, 8, 4, 2] 128 43688\n"
     ]
    }
   ],
   "source": [
    "GSmpsEX = compress(GS, L, 10e4)\n",
    "dims = [max(m.shape) for m in GSmpsEX]\n",
    "\n",
    "print(dims, max(dims), sum( m.size for m in GSmpsEX))"
   ]
  },
  {
   "cell_type": "markdown",
   "metadata": {},
   "source": [
    "d) Call compress() again with $\\chi_{\\max }=10$ to get a compressed MPS $\\left|\\psi_{\\text {compr }}^{M P S}\\right\\rangle$. Compare the number of floats stored in both MPS.\n",
    "Hint: The number of elements in a numpy array $M$ are given by M.size."
   ]
  },
  {
   "cell_type": "code",
   "execution_count": 17,
   "metadata": {},
   "outputs": [
    {
     "data": {
      "text/plain": [
       "1688"
      ]
     },
     "execution_count": 17,
     "metadata": {},
     "output_type": "execute_result"
    }
   ],
   "source": [
    "GSmpsCOMPR = compress(GS, L, 10)\n",
    "sum( m.size for m in GSmpsCOMPR)\n"
   ]
  },
  {
   "cell_type": "markdown",
   "metadata": {},
   "source": [
    "e) Write a function to calculate the overlap between two MPS. Recall from class that there is an inefficient way (first contracting the bra and ket on top and bottom separately and finally contracting over the $j_1, \\ldots j_n$ ) and an efficient way (contracting from left to right); implement the efficient one! Check that the overlap $\\left\\langle\\psi_{e x}^{M P S} \\mid \\psi_{e x}^{M P S}\\right\\rangle$ is (close to) 1 and calculate the overlap $\\left\\langle\\psi_{e x}^{M P S} \\mid \\psi_{\\text {compr }}^{M P S}\\right\\rangle$."
   ]
  },
  {
   "cell_type": "code",
   "execution_count": 9,
   "metadata": {},
   "outputs": [],
   "source": [
    "def mps_vdot(Alist, Blist):\n",
    "    \"\"\"\n",
    "    Compute the inner product of two tensors in MPS format, with the convention that\n",
    "    the complex conjugate of the tensor represented by the first argument is used.\n",
    "\n",
    "    The i-th MPS tensor Alist[i] is expected to have dimensions ( Da[i], n[i], Da[i+1]),\n",
    "    and similarly Blist[i] must have dimensions                 ( Db[i], n[i], Db[i+1]),\n",
    "    with `n` the list of logical dimensions and `Da`, `Db` the lists of virtual bond dimensions.\n",
    "    \"\"\"\n",
    "    Atr = np.reshape(np.transpose(Alist[-1], ( 0, 1, 2)), (Alist[-1].shape[0], Alist[-1].shape[1]))\n",
    "    Btr = np.reshape(np.transpose(Blist[-1], ( 0, 1, 2)), (Blist[-1].shape[0], Blist[-1].shape[1]))\n",
    "    R = np.tensordot(Btr, np.conj(Atr), axes=([1], [1])) \n",
    "    for i in reversed(range(0, len(Alist)-1)):\n",
    "        R = np.tensordot(np.conj(Alist[i]), R, axes=([2], [1]))\n",
    "        R = np.tensordot(Blist[i], R, axes=([1, 2], [1, 2]))\n",
    "    \n",
    "    return R.flatten()[0]\n",
    "    "
   ]
  },
  {
   "cell_type": "code",
   "execution_count": 8,
   "metadata": {},
   "outputs": [
    {
     "name": "stdout",
     "output_type": "stream",
     "text": [
      "(-0.030541734148275435+0.9524440852442817j) (-0.030541734148275823+0.9524440852442819j)\n"
     ]
    }
   ],
   "source": [
    "def crandn(size):\n",
    "    \"\"\"\n",
    "    Draw random samples from the standard complex normal (Gaussian) distribution.\n",
    "    \"\"\"\n",
    "    # 1/sqrt(2) is a normalization factor\n",
    "    return (np.random.normal(size=size) + 1j*np.random.normal(size=size)) / np.sqrt(2)\n",
    "\n",
    "def mps_to_full_tensor(Alist):\n",
    "    \"\"\"\n",
    "    Construct the full tensor corresponding to the MPS tensors `Alist`.\n",
    "\n",
    "    The i-th MPS tensor Alist[i] is expected to have dimensions (n[i], D[i], D[i+1]),\n",
    "    with `n` the list of logical dimensions and `D` the list of virtual bond dimensions.\n",
    "    \"\"\"\n",
    "    # consistency check: dummy singleton dimension\n",
    "    assert Alist[0].ndim == 3 and Alist[0].shape[0] == 1\n",
    "    # formally remove dummy singleton dimension\n",
    "    T = np.reshape(Alist[0], (Alist[0].shape[1], Alist[0].shape[2]))\n",
    "    # contract virtual bonds\n",
    "    for i in range(1, len(Alist)):\n",
    "        T = np.tensordot(T, Alist[i], axes=(-1, 0))\n",
    "    # consistency check: trailing dummy singleton dimension\n",
    "    assert T.shape[-1] == 1\n",
    "    # formally remove trailing singleton dimension\n",
    "    T = np.reshape(T, T.shape[:-1])\n",
    "    return T\n",
    "    \n",
    "\n",
    "# logical dimensions\n",
    "n = [2, 5, 1, 4, 3]\n",
    "\n",
    "# virtual bond dimensions (rather arbitrarily chosen) \n",
    "Da = [1, 3, 4, 7, 6, 1]\n",
    "Db = [1, 4, 9, 8, 5, 1]\n",
    "\n",
    "# random MPS matrices (the scaling factor keeps the norm of the full tensor in a reasonable range)\n",
    "np.random.seed(42)\n",
    "Alist = [0.4 * crandn(( Da[i],n[i], Da[i+1])) for i in range(len(n))]\n",
    "Blist = [0.4 * crandn(( Db[i],n[i], Db[i+1])) for i in range(len(n))]\n",
    "S = mps_to_full_tensor(Alist)\n",
    "T = mps_to_full_tensor(Blist)\n",
    "\n",
    "# reference value for inner product\n",
    "inner_ref = np.vdot(np.reshape(S, -1), np.reshape(T, -1))\n",
    "# compare with implementation based on efficient contraction\n",
    "inner = mps_vdot(Alist, Blist)\n",
    "print(inner, inner_ref)\n"
   ]
  },
  {
   "cell_type": "code",
   "execution_count": 18,
   "metadata": {},
   "outputs": [
    {
     "data": {
      "text/plain": [
       "0.9999999999999994"
      ]
     },
     "execution_count": 18,
     "metadata": {},
     "output_type": "execute_result"
    }
   ],
   "source": [
    "mps_vdot(GSmpsEX, GSmpsEX)"
   ]
  },
  {
   "cell_type": "code",
   "execution_count": 19,
   "metadata": {},
   "outputs": [
    {
     "data": {
      "text/plain": [
       "0.9999999999999891"
      ]
     },
     "execution_count": 19,
     "metadata": {},
     "output_type": "execute_result"
    }
   ],
   "source": [
    "mps_vdot(GSmpsEX, GSmpsCOMPR)"
   ]
  },
  {
   "cell_type": "markdown",
   "metadata": {},
   "source": [
    "f) Write the state $|\\uparrow \\uparrow \\cdots \\uparrow\\rangle$ as an MPS with bond dimension 1 . Calculate the overlap of this state with the ground state (using MPS techniques, i.e. use the function you wrote in $\\mathrm{e})$ )."
   ]
  },
  {
   "cell_type": "code",
   "execution_count": 25,
   "metadata": {},
   "outputs": [],
   "source": [
    "UP = [ np.array([[1], [0]]).reshape((1, 2, 1)) for i in range(L)]"
   ]
  },
  {
   "cell_type": "code",
   "execution_count": 26,
   "metadata": {},
   "outputs": [
    {
     "data": {
      "text/plain": [
       "0.8146943347914246"
      ]
     },
     "execution_count": 26,
     "metadata": {},
     "output_type": "execute_result"
    }
   ],
   "source": [
    "mps_vdot(GSmpsEX, UP)"
   ]
  },
  {
   "cell_type": "markdown",
   "metadata": {},
   "source": [
    "# Exercise 7.2: The AKLT model"
   ]
  },
  {
   "cell_type": "markdown",
   "metadata": {},
   "source": [
    "In this exercise we will consider the construction of a MPS of a non-trivial quantum state. Namely, the ground state of the Affleck-Kennedy-Lieb-Tasaki model introduced in 1987 2. The spin-1 Hamiltonian is given by\n",
    "$$\n",
    "\\hat{H}=\\sum_i \\boldsymbol{S}_i \\cdot \\boldsymbol{S}_{i+1}+\\frac{1}{3}\\left(\\boldsymbol{S}_i \\cdot \\boldsymbol{S}_{i+1}\\right)^2 .\n",
    "$$\n",
    "\n",
    "This model has by construction a ground state in which all nearest neighboring spins share a valence bond, i.e. a spin- $\\frac{1}{2}$ singlet\n",
    "$$\n",
    "\\frac{|\\uparrow \\downarrow\\rangle-|\\downarrow \\uparrow\\rangle}{\\sqrt{2}} .\n",
    "$$\n",
    "\n",
    "This means that each spin-1 can be thought to be broken up in two spin $-\\frac{1}{2}$, and each of the spin- $\\frac{1}{2}$ forms a singlet with a spin- $-\\frac{1}{2}$ on the adjacent site (see also Fig. 1 (d) and (e)).\n"
   ]
  },
  {
   "cell_type": "markdown",
   "metadata": {},
   "source": [
    "a) First construct a dimerized spin- $\\frac{1}{2}$ chain of singlets, i.e. we consider a product of singlets $\\left(\\frac{1}{\\sqrt{2}}|\\uparrow \\downarrow\\rangle-\\frac{1}{\\sqrt{2}}|\\downarrow \\uparrow\\rangle\\right) \\otimes \\cdots \\otimes\\left(\\frac{1}{\\sqrt{2}}|\\uparrow \\downarrow\\rangle-\\frac{1}{\\sqrt{2}}|\\downarrow \\uparrow\\rangle\\right)$ on neighboring sites. Convince yourself that this state can be written in the MPS framework with $1 \\times 2$ matrices on odd sites and $2 \\times 1$ matrices on even sites given by\n",
    "$$\n",
    "M^{[2 n-1] \\uparrow}=\\left(\\begin{array}{ll}\n",
    "\\frac{1}{\\sqrt{2}} & 0\n",
    "\\end{array}\\right), \\quad M^{[2 n-1] \\downarrow}=\\left(\\begin{array}{ll}\n",
    "0 & \\frac{-1}{\\sqrt{2}}\n",
    "\\end{array}\\right), \\quad M^{[2 n] \\uparrow}=\\binom{0}{1}, \\quad M^{[2 n] \\downarrow}=\\binom{1}{0} .\n",
    "$$"
   ]
  },
  {
   "cell_type": "code",
   "execution_count": 83,
   "metadata": {},
   "outputs": [],
   "source": [
    "# # AKLT = np.array([ [np.array([[2**(-0.5)], [-2**(-0.5)]]).reshape((1, 2, 1)),\n",
    "# #         2**(-0.5)*np.array([[1], [1]]).reshape((1, 2, 1))] \n",
    "# #           for i in range(L//2)])\n",
    "\n",
    "# AKLT = np.array([ [np.array([[2**(-0.5)], [-2**(-0.5)]]).reshape((1, 2, 1)),\n",
    "#         2**(-0.5)*np.array([[1], [1]]).reshape((1, 2, 1))] \n",
    "#           for i in range(L//2)])\n",
    "\n",
    "# AKLT = AKLT.reshape((L,AKLT.shape[-3], AKLT.shape[-2], AKLT.shape[-1]))\n",
    "# AKLT.shape"
   ]
  },
  {
   "cell_type": "code",
   "execution_count": 70,
   "metadata": {},
   "outputs": [],
   "source": [
    "Mn = np.array([[ 2**(-0.5), 0],  [0, -2**(-0.5)]]).reshape((1, 2, 2))"
   ]
  },
  {
   "cell_type": "code",
   "execution_count": 71,
   "metadata": {},
   "outputs": [],
   "source": [
    "Mnn = np.array([[ 0, 1],  [ 1, 0]]).T.reshape(( 2, 2, 1))"
   ]
  },
  {
   "cell_type": "code",
   "execution_count": 75,
   "metadata": {},
   "outputs": [
    {
     "data": {
      "text/plain": [
       "14"
      ]
     },
     "execution_count": 75,
     "metadata": {},
     "output_type": "execute_result"
    }
   ],
   "source": [
    "AKLT = []\n",
    "for i in range(L//2):\n",
    "    AKLT.extend( [ Mn, Mnn])\n",
    "\n",
    "# AKLT = AKLT.reshape((L,AKLT.shape[-3], AKLT.shape[-2], AKLT.shape[-1]))\n",
    "len(AKLT)"
   ]
  },
  {
   "cell_type": "markdown",
   "metadata": {},
   "source": [
    "b) Use the overlap function between two MPS that you wrote in the previous exercise to check the norm of this singlet MPS, and to compute the spin-correlation function $\\left\\langle\\sigma_i^z \\sigma_j^z\\right\\rangle$. You should observe that this gives always 0 for $|i-j|>1$."
   ]
  },
  {
   "cell_type": "code",
   "execution_count": 76,
   "metadata": {},
   "outputs": [
    {
     "data": {
      "text/plain": [
       "1.0000000000000002"
      ]
     },
     "execution_count": 76,
     "metadata": {},
     "output_type": "execute_result"
    }
   ],
   "source": [
    "mps_vdot(AKLT, AKLT)"
   ]
  },
  {
   "cell_type": "code",
   "execution_count": 77,
   "metadata": {},
   "outputs": [],
   "source": [
    "sx = np.array([[0., 1.], [1., 0.]])\n",
    "sz = np.array([[1., 0.], [0., -1.]])\n"
   ]
  },
  {
   "cell_type": "code",
   "execution_count": 82,
   "metadata": {},
   "outputs": [
    {
     "data": {
      "text/plain": [
       "0.0"
      ]
     },
     "execution_count": 82,
     "metadata": {},
     "output_type": "execute_result"
    }
   ],
   "source": [
    "def get_corr(state, op, i, j):\n",
    "    stup = state[:]\n",
    "    # print(stup[j])\n",
    "    stup[i] = np.transpose(np.tensordot(stup[i], op, axes=([1], [1])), (0, 2, 1))\n",
    "    # print(stup[j])\n",
    "    stup[j] = np.transpose(np.tensordot(stup[j], op, axes=([1], [1])), (0, 2, 1))\n",
    "    # print(stup[j])\n",
    "    # print(stup[i].shape)\n",
    "    # stup[i] = np.tensordot( op, stup[i], axes=([0], [1]))\n",
    "    # stup[i].shape\n",
    "    return mps_vdot(stup, state)\n",
    "\n",
    "get_corr(AKLT, sz, 3, 4)"
   ]
  },
  {
   "cell_type": "code",
   "execution_count": 85,
   "metadata": {},
   "outputs": [
    {
     "data": {
      "image/png": "[encoded data removed]",
      "text/plain": [
       "<Figure size 640x480 with 1 Axes>"
      ]
     },
     "metadata": {},
     "output_type": "display_data"
    }
   ],
   "source": [
    "plt.figure()\n",
    "\n",
    "js = np.arange(0, 14)\n",
    "coors = []\n",
    "for j in js:\n",
    "    coors.append(get_corr(AKLT, sz, L//2, j))\n",
    "\n",
    "plt.scatter(js, coors)\n",
    "\n",
    "plt.xlabel('j')\n",
    "plt.ylabel(r'$\\left\\langle\\sigma_i^z \\sigma_j^z\\right\\rangle$')\n",
    "# plt.legend()\n",
    "# plt.yscale('log')\n",
    "\n",
    "plt.show()"
   ]
  },
  {
   "cell_type": "markdown",
   "metadata": {},
   "source": [
    "c) Construct the spin-1 projector and apply it to the singlet MPS as shown in Fig. 1 (d) and (e). This gives the MPS representation of the AKLT ground state."
   ]
  },
  {
   "cell_type": "code",
   "execution_count": null,
   "metadata": {},
   "outputs": [],
   "source": []
  }
 ],
 "metadata": {
  "kernelspec": {
   "display_name": "Python 3 (ipykernel)",
   "language": "python",
   "name": "python3"
  },
  "language_info": {
   "codemirror_mode": {
    "name": "ipython",
    "version": 3
   },
   "file_extension": ".py",
   "mimetype": "text/x-python",
   "name": "python",
   "nbconvert_exporter": "python",
   "pygments_lexer": "ipython3",
   "version": "3.12.0"
  }
 },
 "nbformat": 4,
 "nbformat_minor": 4
}
