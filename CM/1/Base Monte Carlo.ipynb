{
 "cells": [
  {
   "cell_type": "code",
   "execution_count": 16,
   "id": "0886839e-00c3-4766-88b0-27fd74305391",
   "metadata": {},
   "outputs": [],
   "source": [
    "import torch\n",
    "import numpy as np\n",
    "from scipy.special import gamma\n",
    "\n",
    "import matplotlib.pyplot as plt\n",
    "import time\n",
    "\n",
    "from IPython.display import clear_output\n",
    "\n",
    "plt.rcParams[\"font.family\"] = \"serif\""
   ]
  },
  {
   "cell_type": "markdown",
   "id": "36cddad0-5568-4b44-a9df-f4988d003112",
   "metadata": {},
   "source": [
    "# 1.1 Estimate π with Monte Carlo"
   ]
  },
  {
   "cell_type": "markdown",
   "id": "5c5e9aa0-6ddc-42c3-a33e-f43e12a31d24",
   "metadata": {},
   "source": [
    "## a)"
   ]
  },
  {
   "cell_type": "code",
   "execution_count": 17,
   "id": "7682b8dc-071c-40b3-a41a-afdd6c7cedd1",
   "metadata": {},
   "outputs": [
    {
     "name": "stdout",
     "output_type": "stream",
     "text": [
      "π ≈ 3.1416\n"
     ]
    }
   ],
   "source": [
    "def get_pi(N: int):\n",
    "    \"\"\"\n",
    "    :param N: number of points participating in the simulation\n",
    "    :return: pi estimation\n",
    "    \"\"\"\n",
    "    dots = torch.rand((N,2)) * 2 - 1 # points in [-1, 1]\n",
    "    return (torch.norm(dots, dim=1) < 1).sum().item() / N * 4\n",
    "\n",
    "print(f\"π ≈ {get_pi(int(1e7)):.4f}\")"
   ]
  },
  {
   "cell_type": "markdown",
   "id": "697bd45d-4eaa-409f-9e2b-cdcb267eb44d",
   "metadata": {},
   "source": [
    "## b)"
   ]
  },
  {
   "cell_type": "code",
   "execution_count": 18,
   "id": "3d55f126-d6ad-4d3c-b3e2-4b3d9c4e84bf",
   "metadata": {},
   "outputs": [
    {
     "name": "stdout",
     "output_type": "stream",
     "text": [
      "π err (N = 10000):\n",
      " mean = 1e-03\n",
      " std  = 2e-02\n"
     ]
    }
   ],
   "source": [
    "def get_pi_estimation_error(N: int, R: int):\n",
    "    \"\"\"\n",
    "    :param N: number of points participating in the simulation\n",
    "    :param R: number of repetitions of pi estimation\n",
    "    :return: pi estimation error std\n",
    "    :return: pi estimation error mean\n",
    "    \"\"\"\n",
    "    dots = torch.rand((R, N, 2)) * 2 - 1 # points in [-1, 1]\n",
    "    pi_pred = (torch.norm(dots, dim=2) < 1).sum(dim=1) / N * 4\n",
    "    return torch.std(pi_pred).item(), torch.mean(pi_pred - torch.pi).item()\n",
    "\n",
    "pi_err_std, pi_err_mean = get_pi_estimation_error(int(1e4), int(1e2));\n",
    "print(f\"π err (N = {int(1e4)}):\\n mean = {pi_err_mean:.0e}\\n std  = {pi_err_std:.0e}\")"
   ]
  },
  {
   "cell_type": "markdown",
   "id": "d6fc0878-af11-4108-8448-5f79aa0f6c65",
   "metadata": {},
   "source": [
    "## c)"
   ]
  },
  {
   "cell_type": "code",
   "execution_count": 19,
   "id": "ab81345d-f3ca-45be-bd68-70c2ea8e9ef2",
   "metadata": {},
   "outputs": [
    {
     "name": "stdout",
     "output_type": "stream",
     "text": [
      "10 / 10\n"
     ]
    }
   ],
   "source": [
    "Ns   = (10**torch.linspace(0, 6, 10)).to(int).unique()\n",
    "errs = torch.zeros(Ns.shape)\n",
    "\n",
    "R = int(1e2)\n",
    "for (j, N) in enumerate(Ns):\n",
    "    clear_output(wait=True)\n",
    "    print(f\"{j+1} / {Ns.shape[0]}\")\n",
    "    errs[j], _ = get_pi_estimation_error(N, R)"
   ]
  },
  {
   "cell_type": "code",
   "execution_count": 20,
   "id": "ddbd0086-a8dc-4a57-859c-9bde14c53575",
   "metadata": {},
   "outputs": [
    {
     "data": {
      "image/png": "[encoded data removed]",
      "text/plain": [
       "<Figure size 300x300 with 1 Axes>"
      ]
     },
     "metadata": {},
     "output_type": "display_data"
    }
   ],
   "source": [
    "plt.figure(figsize=(3,3))\n",
    "plt.loglog(Ns, errs, color=\"blue\", marker='o')\n",
    "plt.grid(alpha=0.5)\n",
    "plt.xlabel(\"Number of Points N\")\n",
    "plt.ylabel(\"Variance of the Error\")\n",
    "plt.show()"
   ]
  },
  {
   "cell_type": "code",
   "execution_count": 21,
   "id": "0719c7b0-85eb-431d-bce8-d96949b587bd",
   "metadata": {},
   "outputs": [
    {
     "name": "stdout",
     "output_type": "stream",
     "text": [
      "linear fit: log(err) = -0.49 log(N) + 0.46\n"
     ]
    }
   ],
   "source": [
    "# the error scales as 1 / sqrt(N)\n",
    "p = np.polyfit(torch.log(Ns), torch.log(errs), 1);\n",
    "print(f\"linear fit: log(err) = {p[0]:.2f} log(N) + {p[1]:.2f}\")"
   ]
  },
  {
   "cell_type": "markdown",
   "id": "9c3c7530-4c88-4d34-9899-e02cdefc90af",
   "metadata": {},
   "source": [
    "## d)"
   ]
  },
  {
   "cell_type": "code",
   "execution_count": 22,
   "id": "32a41032-9803-4042-83d2-7ec8dea41110",
   "metadata": {},
   "outputs": [
    {
     "name": "stdout",
     "output_type": "stream",
     "text": [
      "volume 1 sphere ≈ 2.00e+00\n",
      "volume 2 sphere ≈ 3.14e+00\n",
      "volume 10 sphere ≈ 2.53e+00\n"
     ]
    }
   ],
   "source": [
    "def get_volume_of_d_sphere(d: int, N: int):\n",
    "    \"\"\"\n",
    "    :param d: dimension\n",
    "    :param N: number of points participating in the simulation\n",
    "    :param repeat_count: number of repetitions\n",
    "    :return: the volume of a d-dimensional sphere with radius=1\n",
    "    \"\"\"\n",
    "    dots = torch.rand(N, d) * 2 - 1  # points in [-1, 1]^d\n",
    "    return 2**d * torch.sum(torch.norm(dots, dim=1) < 1).item() / N\n",
    "\n",
    "# The higher the dimension, the less likely it is to fall into the sphere\n",
    "for d in [1, 2, 10]:\n",
    "    print(f\"volume {d} sphere ≈ {get_volume_of_d_sphere(d, int(1e6)):.2e}\")"
   ]
  },
  {
   "cell_type": "code",
   "execution_count": 23,
   "id": "6802d285-2288-42c9-b81b-31f2b03db647",
   "metadata": {},
   "outputs": [],
   "source": [
    "def get_volume_of_d_sphere_error(d: int, N: int, R: int):\n",
    "    \"\"\"\n",
    "    :param d: dimension\n",
    "    :param N: number of points participating in the simulation\n",
    "    :param R: number of repetitions\n",
    "    :return: the volume of a d-dimensional sphere with radius=1\n",
    "    \"\"\"\n",
    "    dots = torch.rand(R, N, d) * 2 - 1  # points in [-1, 1]^d\n",
    "    volume_pred = 2**d * torch.sum(torch.norm(dots, dim=2) < 1, dim=1) / N\n",
    "    volume_true = torch.tensor([np.pi ** (d / 2) / gamma(d/2+1)], dtype=torch.float32)\n",
    "    return torch.std(volume_pred), torch.mean(volume_pred - volume_true)"
   ]
  },
  {
   "cell_type": "code",
   "execution_count": 24,
   "id": "b214faa7-4625-4447-997c-93d7e07a6ba2",
   "metadata": {},
   "outputs": [
    {
     "name": "stdout",
     "output_type": "stream",
     "text": [
      "π err (N = 100000):\n",
      " mean = 5e-03\n",
      " std  = 4e-02\n"
     ]
    }
   ],
   "source": [
    "V_std, V_mean = get_volume_of_d_sphere_error(3, int(1e4), int(1e2));\n",
    "print(f\"π err (N = {int(1e5)}):\\n mean = {V_mean:.0e}\\n std  = {V_std:.0e}\")"
   ]
  },
  {
   "cell_type": "code",
   "execution_count": 25,
   "id": "faa35286-8244-4ffc-a919-1f9004241f40",
   "metadata": {},
   "outputs": [
    {
     "name": "stdout",
     "output_type": "stream",
     "text": [
      "12 / 12\n"
     ]
    }
   ],
   "source": [
    "# let's ask ourselves what accuracy we can get with a fixed computation time\n",
    "ds = torch.arange(2,13+1);\n",
    "Ns = (1e6 / ds).to(int)\n",
    "errs6 = torch.zeros(Ns.shape)\n",
    "\n",
    "R = int(1e2)\n",
    "for (j, (d, N)) in enumerate(zip(ds, Ns)):\n",
    "    clear_output(wait=True)\n",
    "    print(f\"{j+1} / {Ns.shape[0]}\")\n",
    "    errs6[j], _ = get_volume_of_d_sphere_error(d, N, R)\n",
    "\n",
    "Ns = (1e5 / ds).to(int)\n",
    "errs5 = torch.zeros(Ns.shape)\n",
    "\n",
    "for (j, (d, N)) in enumerate(zip(ds, Ns)):\n",
    "    clear_output(wait=True)\n",
    "    print(f\"{j+1} / {Ns.shape[0]}\")\n",
    "    errs5[j], _ = get_volume_of_d_sphere_error(d, N, R)"
   ]
  },
  {
   "cell_type": "code",
   "execution_count": 26,
   "id": "1940733b-cd30-4dfb-987f-fc5cd09c0eb8",
   "metadata": {},
   "outputs": [
    {
     "data": {
      "image/png": "[encoded data removed]",
      "text/plain": [
       "<Figure size 600x300 with 1 Axes>"
      ]
     },
     "metadata": {},
     "output_type": "display_data"
    }
   ],
   "source": [
    "plt.figure(figsize=(6,3))\n",
    "plt.loglog(ds, errs6, color=\"blue\", marker='o', label=\"#dots $\\\\cdot d = 10^6$\")\n",
    "plt.loglog(ds, errs5, color=\"red\", marker='o', label=\"#dots $\\\\cdot d = 10^5$\")\n",
    "plt.grid(alpha=0.5)\n",
    "plt.xlabel(\"Number of Points N\")\n",
    "plt.ylabel(\"Variance of the Error\")\n",
    "plt.legend()\n",
    "plt.show()"
   ]
  },
  {
   "cell_type": "code",
   "execution_count": 27,
   "id": "7aa3979b-b9f1-476c-b9cd-1267481aa7a9",
   "metadata": {},
   "outputs": [
    {
     "name": "stdout",
     "output_type": "stream",
     "text": [
      "linear fit 6: log(err) = 2.6 log(d) + -7.9\n",
      "linear fit 5: log(err) = 2.6 log(d) + -6.7\n"
     ]
    }
   ],
   "source": [
    "p = np.polyfit(torch.log(ds), torch.log(errs6), 1);\n",
    "print(f\"linear fit 6: log(err) = {p[0]:.1f} log(d) + {p[1]:.1f}\")\n",
    "\n",
    "p = np.polyfit(torch.log(ds), torch.log(errs5), 1);\n",
    "print(f\"linear fit 5: log(err) = {p[0]:.1f} log(d) + {p[1]:.1f}\")"
   ]
  },
  {
   "cell_type": "markdown",
   "id": "94569146-2822-4841-8be0-035e6a5a99c5",
   "metadata": {},
   "source": [
    "# 1.2 Importance sampling with Monte Carlo"
   ]
  },
  {
   "cell_type": "markdown",
   "id": "d47cf58a-fd3f-4d1d-89d3-9d03006f6180",
   "metadata": {},
   "source": [
    "We want to evaluate the integral:\n",
    "$ I(a=0,b=\\infty) = \\int_{a}^{b} \\frac{e^{-x}}{1 + (x-1)^2} \\approx 0.696092$\n",
    "\n",
    "In particular, we could start with:\n",
    "$ I(0,10) \\approx 0.696091$"
   ]
  },
  {
   "cell_type": "markdown",
   "id": "b79c1eb6-db14-4854-b72d-89e85592c0d3",
   "metadata": {},
   "source": [
    "## a)"
   ]
  },
  {
   "cell_type": "code",
   "execution_count": 28,
   "id": "b32d95da-98e3-42b8-bb8d-00e99af96439",
   "metadata": {},
   "outputs": [],
   "source": [
    "def f(x: float):\n",
    "    return torch.exp(-x) / (1 + (x-1)**2)"
   ]
  },
  {
   "cell_type": "code",
   "execution_count": 29,
   "id": "4d620dae-d548-4060-ac5a-609450782768",
   "metadata": {},
   "outputs": [],
   "source": [
    "def uniform_I_est(N: int, R: int, b: float = 10.0):\n",
    "    \"\"\"\n",
    "    :param N: number of points participating in the simulation\n",
    "    :param R: number of repetitions\n",
    "    :param b: I cut off\n",
    "    :return: I estimation mean\n",
    "    :return: I estimation std\n",
    "    \"\"\"\n",
    "    I_est = torch.mean(f(torch.rand(R, N) * b), dim=1) * b\n",
    "    return I_est.mean().item(), I_est.std().item()"
   ]
  },
  {
   "cell_type": "code",
   "execution_count": 30,
   "id": "a2bc44d1-98e6-4faf-94d6-90ab502684aa",
   "metadata": {},
   "outputs": [
    {
     "name": "stdout",
     "output_type": "stream",
     "text": [
      "I = 0.6966 ± 0.0015\n"
     ]
    }
   ],
   "source": [
    "R = int(1e4)\n",
    "I_est_mean_u, I_est_std_u = uniform_I_est(int(1e2), R)\n",
    "print(f\"I = {I_est_mean_u:.4f} ± {I_est_std_u/R**0.5:.4f}\")"
   ]
  },
  {
   "cell_type": "markdown",
   "id": "041d9d34-96d0-47e2-84e6-09121cac1430",
   "metadata": {},
   "source": [
    "Error could be estimated as $\\mathrm{std}\\,[f] / \\sqrt{N} \\sim 10^{-4}$, what looks real."
   ]
  },
  {
   "cell_type": "markdown",
   "id": "32aea87e-f2d2-4c84-a1ae-95d9a9be37ee",
   "metadata": {},
   "source": [
    "## b)"
   ]
  },
  {
   "cell_type": "code",
   "execution_count": 31,
   "id": "fcebd596-6c82-4657-aa76-d2b8b0f5d5b2",
   "metadata": {},
   "outputs": [],
   "source": [
    "alpha = 1.46\n",
    "def g(x: float):\n",
    "    return alpha * torch.exp(- alpha * x)"
   ]
  },
  {
   "cell_type": "code",
   "execution_count": 32,
   "id": "16ed2e39-7222-4e61-9dce-09cf106cde8c",
   "metadata": {},
   "outputs": [],
   "source": [
    "def exp_I_est(N: int, R: int):\n",
    "    \"\"\"\n",
    "    :param N: number of points participating in the simulation\n",
    "    :param R: number of repetitions of pi estimation\n",
    "    :return: I estimation mean\n",
    "    :return: I estimation std\n",
    "    \"\"\"\n",
    "    xs = - torch.log(torch.rand(R, N)+1e-15) / alpha # from g^{-1}\n",
    "    I_est = torch.mean(f(xs) / g(xs), dim=1)\n",
    "    return I_est.mean().item(), I_est.std().item()"
   ]
  },
  {
   "cell_type": "code",
   "execution_count": 33,
   "id": "e70b15aa-0f0a-4d6c-b299-c0ce413b7fc6",
   "metadata": {},
   "outputs": [
    {
     "name": "stdout",
     "output_type": "stream",
     "text": [
      "I = 0.6958 ± 0.0003\n"
     ]
    }
   ],
   "source": [
    "R = int(1e4)\n",
    "I_est_mean, I_est_std = exp_I_est(int(1e2), R)\n",
    "print(f\"I = {I_est_mean:.4f} ± {I_est_std/R**0.5:.4f}\")"
   ]
  },
  {
   "cell_type": "markdown",
   "id": "6ca3fadb-9565-409f-bacc-6a715adde925",
   "metadata": {},
   "source": [
    "It's much better!"
   ]
  },
  {
   "cell_type": "markdown",
   "id": "6eca2150-fa5e-4854-ae03-32df61499301",
   "metadata": {},
   "source": [
    "## b*) alpha-scaling"
   ]
  },
  {
   "cell_type": "code",
   "execution_count": 34,
   "id": "29f4a908-af3c-4cc2-b382-a4365d87e552",
   "metadata": {},
   "outputs": [],
   "source": [
    "def g(x: float, alpha: float = 1.46):\n",
    "    return alpha * torch.exp(- alpha * x)"
   ]
  },
  {
   "cell_type": "code",
   "execution_count": 35,
   "id": "f735eaf4-7371-43a9-aba7-3ffb52031f6a",
   "metadata": {},
   "outputs": [],
   "source": [
    "def exp_I_est(N: int, R: int, alpha: float = 1.46):\n",
    "    \"\"\"\n",
    "    :param N: number of points participating in the simulation\n",
    "    :param R: number of repetitions of pi estimation\n",
    "    :return: I estimation mean\n",
    "    :return: I estimation std\n",
    "    \"\"\"\n",
    "    xs = - torch.log(torch.rand(R, N)+1e-15) / alpha # from g^{-1}\n",
    "    I_est = torch.mean(f(xs) / g(xs, alpha), dim=1)\n",
    "    return I_est.mean().item(), I_est.std().item()"
   ]
  },
  {
   "cell_type": "code",
   "execution_count": 36,
   "id": "a5e848b1-8f00-460a-a25e-c82e30eaba7d",
   "metadata": {},
   "outputs": [
    {
     "data": {
      "image/png": "[encoded data removed]",
      "text/plain": [
       "<Figure size 300x300 with 1 Axes>"
      ]
     },
     "metadata": {},
     "output_type": "display_data"
    }
   ],
   "source": [
    "def get_I_est_err_alpha(alpha: float, N: int = int(1e2), R: int = int(1e4)):\n",
    "    _, err_std = exp_I_est(N, R, alpha)\n",
    "    return err_std\n",
    "\n",
    "alphas = torch.linspace(0.05, 3.5, 10)\n",
    "errs   = [get_I_est_err_alpha(alpha) for alpha in alphas]\n",
    "\n",
    "plt.figure(figsize=(3,3))\n",
    "plt.semilogy(alphas, errs, color=\"blue\", marker='o', label=\"exp(α)\")\n",
    "plt.semilogy(alphas, alphas * 0 + I_est_std_u, color=\"red\", label=\"uniform\")\n",
    "plt.grid(alpha=0.5, which=\"both\")\n",
    "plt.xlabel(\"prior distribution parameter α\")\n",
    "plt.ylabel(\"variance of the error\")\n",
    "plt.ylim(0.01, 1.0)\n",
    "plt.legend()\n",
    "plt.show()"
   ]
  }
 ],
 "metadata": {
  "kernelspec": {
   "display_name": "Python 3 (ipykernel)",
   "language": "python",
   "name": "python3"
  },
  "language_info": {
   "codemirror_mode": {
    "name": "ipython",
    "version": 3
   },
   "file_extension": ".py",
   "mimetype": "text/x-python",
   "name": "python",
   "nbconvert_exporter": "python",
   "pygments_lexer": "ipython3",
   "version": "3.12.0"
  }
 },
 "nbformat": 4,
 "nbformat_minor": 5
}
